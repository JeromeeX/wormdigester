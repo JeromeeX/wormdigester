{
 "cells": [
  {
   "cell_type": "code",
   "execution_count": 3,
   "metadata": {},
   "outputs": [],
   "source": [
    "import pandas as pd\n"
   ]
  },
  {
   "cell_type": "code",
   "execution_count": 9,
   "metadata": {},
   "outputs": [],
   "source": [
    "# path to fasta file with restriction enzyme recognition sequence:\n",
    "fasta_file_re = \"lab_enzymes.fa\"\n",
    "# path to genome file\n",
    "genome = \"../genome_celegans.fa\"\n",
    "\n",
    "!seqkit locate --bed -f $fasta_file_re $genome -j 34 -F > lab_enzymes.bed\n",
    "!awk -F \"\\t\" '{print $1 \"\\t\" $2 \"\\t\" $4}' lab_enzymes.bed > lab_enzymes_3c.bed"
   ]
  },
  {
   "cell_type": "code",
   "execution_count": 6,
   "metadata": {},
   "outputs": [
    {
     "data": {
      "text/html": [
       "<div>\n",
       "<style scoped>\n",
       "    .dataframe tbody tr th:only-of-type {\n",
       "        vertical-align: middle;\n",
       "    }\n",
       "\n",
       "    .dataframe tbody tr th {\n",
       "        vertical-align: top;\n",
       "    }\n",
       "\n",
       "    .dataframe thead th {\n",
       "        text-align: right;\n",
       "    }\n",
       "</style>\n",
       "<table border=\"1\" class=\"dataframe\">\n",
       "  <thead>\n",
       "    <tr style=\"text-align: right;\">\n",
       "      <th></th>\n",
       "      <th>Chr</th>\n",
       "      <th>cutsite</th>\n",
       "      <th>name</th>\n",
       "    </tr>\n",
       "  </thead>\n",
       "  <tbody>\n",
       "    <tr>\n",
       "      <th>0</th>\n",
       "      <td>I</td>\n",
       "      <td>13519</td>\n",
       "      <td>AflII</td>\n",
       "    </tr>\n",
       "    <tr>\n",
       "      <th>1</th>\n",
       "      <td>I</td>\n",
       "      <td>16155</td>\n",
       "      <td>AflII</td>\n",
       "    </tr>\n",
       "    <tr>\n",
       "      <th>2</th>\n",
       "      <td>I</td>\n",
       "      <td>17112</td>\n",
       "      <td>AflII</td>\n",
       "    </tr>\n",
       "    <tr>\n",
       "      <th>3</th>\n",
       "      <td>I</td>\n",
       "      <td>35046</td>\n",
       "      <td>AflII</td>\n",
       "    </tr>\n",
       "    <tr>\n",
       "      <th>4</th>\n",
       "      <td>I</td>\n",
       "      <td>44694</td>\n",
       "      <td>AflII</td>\n",
       "    </tr>\n",
       "    <tr>\n",
       "      <th>...</th>\n",
       "      <td>...</td>\n",
       "      <td>...</td>\n",
       "      <td>...</td>\n",
       "    </tr>\n",
       "    <tr>\n",
       "      <th>2723688</th>\n",
       "      <td>MtDNA</td>\n",
       "      <td>2970</td>\n",
       "      <td>BsmAI</td>\n",
       "    </tr>\n",
       "    <tr>\n",
       "      <th>2723689</th>\n",
       "      <td>MtDNA</td>\n",
       "      <td>2271</td>\n",
       "      <td>BsmAI</td>\n",
       "    </tr>\n",
       "    <tr>\n",
       "      <th>2723690</th>\n",
       "      <td>MtDNA</td>\n",
       "      <td>4870</td>\n",
       "      <td>HindIII-HF</td>\n",
       "    </tr>\n",
       "    <tr>\n",
       "      <th>2723691</th>\n",
       "      <td>MtDNA</td>\n",
       "      <td>1907</td>\n",
       "      <td>HindIII-HF</td>\n",
       "    </tr>\n",
       "    <tr>\n",
       "      <th>2723692</th>\n",
       "      <td>MtDNA</td>\n",
       "      <td>1054</td>\n",
       "      <td>HindIII-HF</td>\n",
       "    </tr>\n",
       "  </tbody>\n",
       "</table>\n",
       "<p>2723693 rows × 3 columns</p>\n",
       "</div>"
      ],
      "text/plain": [
       "           Chr  cutsite        name\n",
       "0            I    13519       AflII\n",
       "1            I    16155       AflII\n",
       "2            I    17112       AflII\n",
       "3            I    35046       AflII\n",
       "4            I    44694       AflII\n",
       "...        ...      ...         ...\n",
       "2723688  MtDNA     2970       BsmAI\n",
       "2723689  MtDNA     2271       BsmAI\n",
       "2723690  MtDNA     4870  HindIII-HF\n",
       "2723691  MtDNA     1907  HindIII-HF\n",
       "2723692  MtDNA     1054  HindIII-HF\n",
       "\n",
       "[2723693 rows x 3 columns]"
      ]
     },
     "execution_count": 6,
     "metadata": {},
     "output_type": "execute_result"
    }
   ],
   "source": [
    "enzyme_list = pd.read_csv(\"lab_enzymes_3c.bed\", sep=\"\\t\", names=['Chr', 'cutsite', 'name'])\n",
    "enzyme_list"
   ]
  },
  {
   "cell_type": "code",
   "execution_count": 7,
   "metadata": {},
   "outputs": [
    {
     "name": "stdout",
     "output_type": "stream",
     "text": [
      "['I' 'II' 'III' 'IV' 'V' 'X' 'MtDNA']\n",
      "['AflII' 'ApaI' 'PmlI' 'ApaLI' 'MfeI' 'PvuII' 'EcoRV-HF' 'EcoRI-HF' 'NcoI'\n",
      " 'EagI-HF' 'BglII' 'NaeI' 'NheI' 'SalI-HF' 'SacI-HF' 'SacII' 'HpaII'\n",
      " 'XhoI' 'NdeI' 'SapI' 'DpnI' 'BsmAI' 'XbaI' 'BamHI-HF' 'PstI-HF' 'KpnI-HF'\n",
      " 'HindIII-HF' 'MboI' 'DraI']\n",
      "{'I': 15072434, 'II': 15279421, 'III': 13783801, 'IV': 17493829, 'V': 20924180, 'X': 17718942, 'MtDNA': 13794}\n"
     ]
    }
   ],
   "source": [
    "chromosomes = enzyme_list['Chr'].unique()\n",
    "print(chromosomes)\n",
    "enzymes = enzyme_list['name'].unique()\n",
    "print(enzymes)\n",
    "\n",
    "Chrom_sizes = {\n",
    "    'I' : 15072434,\n",
    "    'II' : 15279421,\n",
    "    'III' : 13783801,\n",
    "    'IV' : 17493829,\n",
    "    'V' : 20924180,\n",
    "    'X' : 17718942,\n",
    "    'MtDNA' : 13794\n",
    "}\n",
    "print(Chrom_sizes)"
   ]
  },
  {
   "cell_type": "code",
   "execution_count": 8,
   "metadata": {},
   "outputs": [
    {
     "data": {
      "text/html": [
       "<div>\n",
       "<style scoped>\n",
       "    .dataframe tbody tr th:only-of-type {\n",
       "        vertical-align: middle;\n",
       "    }\n",
       "\n",
       "    .dataframe tbody tr th {\n",
       "        vertical-align: top;\n",
       "    }\n",
       "\n",
       "    .dataframe thead th {\n",
       "        text-align: right;\n",
       "    }\n",
       "</style>\n",
       "<table border=\"1\" class=\"dataframe\">\n",
       "  <thead>\n",
       "    <tr style=\"text-align: right;\">\n",
       "      <th></th>\n",
       "      <th>Chr</th>\n",
       "      <th>cutsite</th>\n",
       "      <th>name</th>\n",
       "    </tr>\n",
       "  </thead>\n",
       "  <tbody>\n",
       "    <tr>\n",
       "      <th>0</th>\n",
       "      <td>I</td>\n",
       "      <td>13519</td>\n",
       "      <td>AflII</td>\n",
       "    </tr>\n",
       "    <tr>\n",
       "      <th>1</th>\n",
       "      <td>I</td>\n",
       "      <td>16155</td>\n",
       "      <td>AflII</td>\n",
       "    </tr>\n",
       "    <tr>\n",
       "      <th>2</th>\n",
       "      <td>I</td>\n",
       "      <td>17112</td>\n",
       "      <td>AflII</td>\n",
       "    </tr>\n",
       "    <tr>\n",
       "      <th>3</th>\n",
       "      <td>I</td>\n",
       "      <td>35046</td>\n",
       "      <td>AflII</td>\n",
       "    </tr>\n",
       "    <tr>\n",
       "      <th>4</th>\n",
       "      <td>I</td>\n",
       "      <td>44694</td>\n",
       "      <td>AflII</td>\n",
       "    </tr>\n",
       "    <tr>\n",
       "      <th>...</th>\n",
       "      <td>...</td>\n",
       "      <td>...</td>\n",
       "      <td>...</td>\n",
       "    </tr>\n",
       "    <tr>\n",
       "      <th>428502</th>\n",
       "      <td>I</td>\n",
       "      <td>3974</td>\n",
       "      <td>DpnI</td>\n",
       "    </tr>\n",
       "    <tr>\n",
       "      <th>428503</th>\n",
       "      <td>I</td>\n",
       "      <td>3749</td>\n",
       "      <td>DpnI</td>\n",
       "    </tr>\n",
       "    <tr>\n",
       "      <th>428504</th>\n",
       "      <td>I</td>\n",
       "      <td>3680</td>\n",
       "      <td>DpnI</td>\n",
       "    </tr>\n",
       "    <tr>\n",
       "      <th>428505</th>\n",
       "      <td>I</td>\n",
       "      <td>2674</td>\n",
       "      <td>DpnI</td>\n",
       "    </tr>\n",
       "    <tr>\n",
       "      <th>428506</th>\n",
       "      <td>I</td>\n",
       "      <td>2491</td>\n",
       "      <td>DpnI</td>\n",
       "    </tr>\n",
       "  </tbody>\n",
       "</table>\n",
       "<p>428507 rows × 3 columns</p>\n",
       "</div>"
      ],
      "text/plain": [
       "       Chr  cutsite   name\n",
       "0        I    13519  AflII\n",
       "1        I    16155  AflII\n",
       "2        I    17112  AflII\n",
       "3        I    35046  AflII\n",
       "4        I    44694  AflII\n",
       "...     ..      ...    ...\n",
       "428502   I     3974   DpnI\n",
       "428503   I     3749   DpnI\n",
       "428504   I     3680   DpnI\n",
       "428505   I     2674   DpnI\n",
       "428506   I     2491   DpnI\n",
       "\n",
       "[428507 rows x 3 columns]"
      ]
     },
     "execution_count": 8,
     "metadata": {},
     "output_type": "execute_result"
    }
   ],
   "source": [
    "enzyme_list.query('Chr == \"I\"')"
   ]
  },
  {
   "cell_type": "code",
   "execution_count": 10,
   "metadata": {},
   "outputs": [
    {
     "name": "stdout",
     "output_type": "stream",
     "text": [
      "['AflII' 'ApaI' 'PmlI' 'ApaLI' 'MfeI' 'PvuII' 'EcoRV-HF' 'EcoRI-HF' 'NcoI'\n",
      " 'EagI-HF' 'BglII' 'NaeI' 'NheI' 'SalI-HF' 'SacI-HF' 'SacII' 'HpaII'\n",
      " 'XhoI' 'NdeI' 'SapI' 'DpnI' 'BsmAI' 'XbaI' 'BamHI-HF' 'PstI-HF' 'KpnI-HF'\n",
      " 'HindIII-HF' 'MboI' 'DraI']\n"
     ]
    }
   ],
   "source": [
    "import matplotlib.pyplot as plt\n",
    "import numpy as np\n",
    "\n",
    "print(enzymes)\n",
    "def digest(zyme1, zyme2):\n",
    "    all_chr_fragment_lengths = []\n",
    "    for chr in chromosomes:\n",
    "        enzyme_1_df = enzyme_list.query('Chr == @chr & name == @zyme1')\n",
    "        enzyme_2_df = enzyme_list.query('Chr == @chr & name == @zyme2')\n",
    "        # Querying the chromosomes and enzymes provided and return a new dataframe\n",
    "        list_of_enzyme_1_cutsites = enzyme_1_df['cutsite'].to_list()\n",
    "        list_of_enzyme_2_cutsites = enzyme_2_df['cutsite'].to_list()\n",
    "        # Making lists for the two enzyme cutting sites\n",
    "        all_cutsites_list = list_of_enzyme_1_cutsites + list_of_enzyme_2_cutsites\n",
    "        all_cutsites_list.append(1)\n",
    "        all_cutsites_list.append(Chrom_sizes[chr])\n",
    "        # Merging the two lists into one and add \"1\" and \"chromosome length\" to the list\n",
    "        set_of_all_cutsites = set(all_cutsites_list)\n",
    "        all_cutsites_list = list(set_of_all_cutsites)\n",
    "        # Render the cut sites unique before sorting\n",
    "        all_cutsites_list.sort()\n",
    "\n",
    "        fragment_length = []\n",
    "        last_position = 0\n",
    "        for i in all_cutsites_list:\n",
    "            if(last_position == 0):\n",
    "                last_position = i\n",
    "            else:\n",
    "                fragment_length.append(i - last_position)\n",
    "                last_position = i\n",
    "        for item in fragment_length:\n",
    "            all_chr_fragment_lengths.append(item)\n",
    "        # Making the difference between the adjacent two items in the list \n",
    "    \n",
    "    all_chr_fragment_lengths.sort()\n",
    "    return all_chr_fragment_lengths\n",
    "\n",
    "def fig1(zyme1, zyme2):\n",
    "    all_chr_fragment_lengths = digest(zyme1, zyme2)\n",
    "    genomelength = sum(all_chr_fragment_lengths)\n",
    "    \n",
    "    \n",
    "    def percent_to_size(n):\n",
    "        totalcount = 0\n",
    "        cutoff_threshold = 0\n",
    "        for i in all_chr_fragment_lengths:\n",
    "            if totalcount <= n * 0.01 * genomelength:\n",
    "                totalcount += i\n",
    "            else:\n",
    "                cutoff_threshold = i\n",
    "                break\n",
    "        return cutoff_threshold\n",
    "    \n",
    "    def size_to_percent(n):\n",
    "        below_cutoff = 0\n",
    "        for i in all_chr_fragment_lengths:\n",
    "            if i <= n:\n",
    "                below_cutoff += i\n",
    "        return round(below_cutoff/genomelength*100)\n",
    "    \n",
    "    def array_proportion(n):\n",
    "        above_cutoff = 0\n",
    "        for i in all_chr_fragment_lengths:\n",
    "            if i >= n:\n",
    "                above_cutoff += i\n",
    "        return (str(round(5000000 * 100 / (5000000 + above_cutoff))) + \"%\")\n",
    "    \n",
    "    plt.hist(all_chr_fragment_lengths, bins=5000, color=\"slategray\")\n",
    "    plt.yscale('log')\n",
    "    plt.xlim(0, 15000)\n",
    "    plt.vlines(x=5000, ymin=0, ymax=100, colors=\"tab:red\", linestyles=\"dotted\", linewidth=2)\n",
    "    plt.text(3000, 100, str(size_to_percent(5000)) + \"%\" + \"\\n\" + \"(SRE XS)\", color=\"tab:red\")\n",
    "    plt.vlines(x=percent_to_size(95), ymin=0, ymax=100, colors=\"tab:blue\", linestyles=\"dotted\", linewidth=2)\n",
    "    plt.text(percent_to_size(95), 100, \"95%\", color=\"tab:blue\")\n",
    "    plt.vlines(x=10000, ymin=0, ymax=100, colors=\"gold\", linestyles=\"dotted\", linewidth=2)\n",
    "    plt.text(10000, 100, str(size_to_percent(10000)) + \"%\" + \"\\n\" + \"(SRE)\", color=\"gold\")\n",
    "    plt.xlabel(\"Fragment length (base)\")\n",
    "    plt.ylabel(\"Fragment count\")\n",
    "    if zyme1 == zyme2:\n",
    "        plt.title(str(zyme1))\n",
    "        #plt.savefig(\"1 \" + zyme1 + \" gDNA digestion\", dpi=500)\n",
    "    else:\n",
    "        plt.title(str(zyme1 + ' & ' + zyme2))\n",
    "        #plt.savefig(\"1 \" + zyme1 + \" & \" + zyme2 + \" gDNA digestion\", dpi=500)\n",
    "    plt.show()"
   ]
  },
  {
   "cell_type": "code",
   "execution_count": 11,
   "metadata": {},
   "outputs": [
    {
     "data": {
      "image/png": "[encoded data removed]",
      "text/plain": [
       "<Figure size 640x480 with 1 Axes>"
      ]
     },
     "metadata": {},
     "output_type": "display_data"
    }
   ],
   "source": [
    "fig1(\"EcoRI-HF\", \"HindIII-HF\")\n",
    "# Generate your figure 1 here. If there is only one enzyme conducting digestion, please make the input as two identical enzymes as shown here."
   ]
  },
  {
   "cell_type": "code",
   "execution_count": 13,
   "metadata": {},
   "outputs": [
    {
     "name": "stdout",
     "output_type": "stream",
     "text": [
      "['AflII' 'ApaI' 'PmlI' 'ApaLI' 'MfeI' 'PvuII' 'EcoRV-HF' 'EcoRI-HF' 'NcoI'\n",
      " 'EagI-HF' 'BglII' 'NaeI' 'NheI' 'SalI-HF' 'SacI-HF' 'SacII' 'HpaII'\n",
      " 'XhoI' 'NdeI' 'SapI' 'DpnI' 'BsmAI' 'XbaI' 'BamHI-HF' 'PstI-HF' 'KpnI-HF'\n",
      " 'HindIII-HF' 'MboI' 'DraI']\n"
     ]
    }
   ],
   "source": [
    "import matplotlib.pyplot as plt\n",
    "print(enzymes)\n",
    "def fig2(zyme1, zyme2):\n",
    "    digestion = digest(zyme1, zyme2)\n",
    "\n",
    "    def size_to_percent(fragments, n):\n",
    "        above_cutoff = 0\n",
    "        for i in fragments:\n",
    "            if i >= n:\n",
    "                above_cutoff += i\n",
    "        return round(5000000 * 100/(above_cutoff + 5000000))\n",
    "    \n",
    "    comparisonlist = [\"No selection\", \"SRE XS (3 kb)\", \"SRE (5 kb)\"]\n",
    "    percentagelist = [5, size_to_percent(digestion, 5000), size_to_percent(digestion, 10000)]\n",
    "    bar_colors = [\"tab:red\", \"tab:blue\", \"gold\"]\n",
    "    \n",
    "    fig, ax = plt.subplots()\n",
    "    bar_container = ax.bar(comparisonlist, percentagelist, color=bar_colors)\n",
    "    ax.bar_label(bar_container, fmt=lambda x: str(x) + \"%\")\n",
    "    ax.set_ylim(0, 100)\n",
    "    if zyme1 == zyme2:\n",
    "        ax.set(ylabel=\"Array percentage in size-selected DNA\", xlabel = \"Selection after \" + zyme1 + \" digestion\")\n",
    "        #plt.savefig(\"2 Array percentage after digestion by \" + zyme1, dpi=500)\n",
    "    else:\n",
    "        #ax.set(ylabel=\"Array percentage in size-selected DNA\", xlabel = \"Selection after \" + zyme1 + \" & \" + zyme2 + \" digestion\")\n",
    "        ax.set(ylabel=\"Array percentage in size-selected DNA\", xlabel = \"Selection method after digestion\")\n",
    "        #plt.savefig(\"2 Array percentage after digestion by \" + zyme1 + \" & \" + zyme2, dpi=500)\n",
    "    return percentagelist"
   ]
  },
  {
   "cell_type": "code",
   "execution_count": 17,
   "metadata": {},
   "outputs": [
    {
     "data": {
      "text/plain": [
       "[5, 10, 25]"
      ]
     },
     "execution_count": 17,
     "metadata": {},
     "output_type": "execute_result"
    },
    {
     "data": {
      "image/png": "[encoded data removed]",
      "text/plain": [
       "<Figure size 640x480 with 1 Axes>"
      ]
     },
     "metadata": {},
     "output_type": "display_data"
    }
   ],
   "source": [
    "fig2(\"HindIII-HF\", \"HindIII-HF\")\n",
    "# Generate your figure 2 here. If there is only one enzyme conducting digestion, please make the input as two identical enzymes."
   ]
  }
 ],
 "metadata": {
  "kernelspec": {
   "display_name": "tf",
   "language": "python",
   "name": "python3"
  },
  "language_info": {
   "codemirror_mode": {
    "name": "ipython",
    "version": 3
   },
   "file_extension": ".py",
   "mimetype": "text/x-python",
   "name": "python",
   "nbconvert_exporter": "python",
   "pygments_lexer": "ipython3",
   "version": "3.11.4"
  },
  "orig_nbformat": 4
 },
 "nbformat": 4,
 "nbformat_minor": 2
}
